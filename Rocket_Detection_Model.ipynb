{
 "cells": [
  {
   "cell_type": "markdown",
   "id": "d81d2b53-3653-4328-96d7-ab21ccc496ce",
   "metadata": {
    "id": "f771f522"
   },
   "source": [
    "# Rocket Objects Detection 🚀"
   ]
  },
  {
   "cell_type": "markdown",
   "id": "86f68733-3ba6-4c1e-8e1f-3572a9bba695",
   "metadata": {},
   "source": [
    "# 1. Problem Definition"
   ]
  },
  {
   "cell_type": "markdown",
   "id": "2fe1cabb-577b-4a8c-9c2e-a8ec35c4fa08",
   "metadata": {},
   "source": [
    "## 1.1 Project Goal\n"
   ]
  },
  {
   "cell_type": "markdown",
   "id": "97187fbc-005a-456d-a5e4-c63c1dc826d3",
   "metadata": {},
   "source": [
    "## 1.2 Problem Statement\n"
   ]
  },
  {
   "cell_type": "markdown",
   "id": "540c8d41-bc30-4dc1-ac32-1f667df946dd",
   "metadata": {},
   "source": [
    "## 1.3 Impact of the Solution\n"
   ]
  },
  {
   "cell_type": "markdown",
   "id": "a9c4acb1-86b6-4727-aa39-8f5e67edc427",
   "metadata": {},
   "source": [
    "---"
   ]
  },
  {
   "cell_type": "markdown",
   "id": "7caccd4d-5018-43f8-89fa-78a15b22bea2",
   "metadata": {},
   "source": [
    "# 2. Data Collection"
   ]
  },
  {
   "cell_type": "markdown",
   "id": "290ba575-4c0b-4e7a-a833-07ab61eda47c",
   "metadata": {},
   "source": [
    "## 2.1 Source of Data\n",
    "The dataset is sourced from NASASpaceflight on Roboflow - Rocket Detect Computer Vision Project, which can be found at the following URL: https://universe.roboflow.com/nasaspaceflight/rocket-detect\n"
   ]
  },
  {
   "cell_type": "markdown",
   "id": "b9264efe-d767-4b09-bfed-52ae3509b5e0",
   "metadata": {},
   "source": [
    "## 2.2 Composition of the Dataset\n"
   ]
  },
  {
   "cell_type": "markdown",
   "id": "8f713aa7-e31d-464d-81c9-ac5d2026604a",
   "metadata": {},
   "source": [
    "## 2.3 Data Organization\n",
    "\n"
   ]
  },
  {
   "cell_type": "code",
   "execution_count": null,
   "id": "da767c7c-d175-4b3a-8505-976ff39692d5",
   "metadata": {
    "id": "da767c7c-d175-4b3a-8505-976ff39692d5"
   },
   "outputs": [],
   "source": []
  },
  {
   "cell_type": "markdown",
   "id": "93fd8bbe-e06e-48c1-9085-535bc8eb05bd",
   "metadata": {
    "id": "49a33697"
   },
   "source": [
    "---"
   ]
  },
  {
   "cell_type": "markdown",
   "id": "1ba610ea-b7a3-4b86-9947-7f6a7462b8d6",
   "metadata": {
    "id": "559b1c57"
   },
   "source": [
    "# 3. Data Exploration and Visualization (EDA)"
   ]
  },
  {
   "cell_type": "code",
   "execution_count": null,
   "id": "jQ7CGqB5h01b",
   "metadata": {
    "colab": {
     "base_uri": "https://localhost:8080/"
    },
    "id": "jQ7CGqB5h01b",
    "outputId": "0b15ae1b-7e51-4378-abe6-4d4e0cf2c412"
   },
   "outputs": [],
   "source": [
    "import torch\n",
    "print(torch.cuda.is_available())\n",
    "print(torch.cuda.device_count())\n",
    "\n",
    "!pip install ultralytics\n",
    "from ultralytics import YOLO\n",
    "# Google Colab and Paths\n",
    "from google.colab import drive\n",
    "drive.mount('/content/drive', force_remount=True)\n",
    "dataset_path = '/content/drive/My Drive/yolo_dataset/data.yaml'\n",
    "model_path = '/content/drive/My Drive/yolo_dataset/last_v8m.pt'\n",
    "save_dir = '/content/drive/My Drive/yolo_dataset'"
   ]
  },
  {
   "cell_type": "code",
   "execution_count": null,
   "id": "3ed8bb3a-61cc-4e2e-a68c-2ce71e714abe",
   "metadata": {},
   "outputs": [],
   "source": []
  },
  {
   "cell_type": "code",
   "execution_count": null,
   "id": "7fd55f8a-58c8-40ac-9a1a-8b22bb758df5",
   "metadata": {
    "scrolled": true
   },
   "outputs": [],
   "source": [
    "import os\n",
    "import random\n",
    "import cv2\n",
    "import matplotlib.pyplot as plt\n",
    "\n",
    "# Define the paths to the images and labels folders\n",
    "images_folder = '6k_dataset/images'\n",
    "labels_folder = '6k_dataset/labels'\n",
    "\n",
    "# Define the labels\n",
    "labels = {\n",
    "    0: 'Engine Flames',\n",
    "    1: 'Rocket Body',\n",
    "    2: 'Space'\n",
    "}\n",
    "\n",
    "# Function to load a random sample of images and their corresponding labels\n",
    "def load_random_samples(num_samples=5):\n",
    "    image_files = [f for f in os.listdir(images_folder) if f.endswith('.jpg')]\n",
    "    random_samples = random.sample(image_files, num_samples)\n",
    "    \n",
    "    samples = []\n",
    "    for image_file in random_samples:\n",
    "        image_path = os.path.join(images_folder, image_file)\n",
    "        label_file = image_file.replace('.jpg', '.txt')\n",
    "        label_path = os.path.join(labels_folder, label_file)\n",
    "        \n",
    "        with open(label_path, 'r') as f:\n",
    "            label_data = f.readlines()\n",
    "        \n",
    "        samples.append((image_path, label_data))\n",
    "    \n",
    "    return samples\n",
    "\n",
    "# Function to visualize images with bounding boxes\n",
    "def visualize_samples(samples):\n",
    "    for image_path, label_data in samples:\n",
    "        image = cv2.imread(image_path)\n",
    "        image = cv2.cvtColor(image, cv2.COLOR_BGR2RGB)\n",
    "        \n",
    "        for line in label_data:\n",
    "            parts = line.strip().split()\n",
    "            label = int(parts[0])\n",
    "            x_center = float(parts[1])\n",
    "            y_center = float(parts[2])\n",
    "            width = float(parts[3])\n",
    "            height = float(parts[4])\n",
    "            \n",
    "            img_height, img_width, _ = image.shape\n",
    "            x_center *= img_width\n",
    "            y_center *= img_height\n",
    "            width *= img_width\n",
    "            height *= img_height\n",
    "            \n",
    "            x_min = int(x_center - width / 2)\n",
    "            y_min = int(y_center - height / 2)\n",
    "            x_max = int(x_center + width / 2)\n",
    "            y_max = int(y_center + height / 2)\n",
    "            \n",
    "            cv2.rectangle(image, (x_min, y_min), (x_max, y_max), (255, 0, 0), 2)\n",
    "            cv2.putText(image, labels[label], (x_min, y_min - 10), cv2.FONT_HERSHEY_SIMPLEX, 0.9, (255, 0, 0), 2)\n",
    "        \n",
    "        plt.figure(figsize=(10, 10))\n",
    "        plt.imshow(image)\n",
    "        plt.axis('off')\n",
    "        plt.show()\n",
    "\n",
    "# Load random samples and visualize them\n",
    "samples = load_random_samples(num_samples=5)\n",
    "visualize_samples(samples)"
   ]
  },
  {
   "cell_type": "markdown",
   "id": "c6323f94-7be2-4db5-9891-cc33f43cb79a",
   "metadata": {},
   "source": [
    "![sample1](https://i.imgur.com/eqvFsFc.png)\n",
    "![sample2](https://i.imgur.com/U7ljJLI.png)\n",
    "![sample3](https://i.imgur.com/Xz661o0.png)\n",
    "![sample4](https://i.imgur.com/cDCH8tX.png)"
   ]
  },
  {
   "cell_type": "markdown",
   "id": "8cbcff9c-cec3-48db-a98c-21a6e2f32c43",
   "metadata": {},
   "source": [
    "Class Distri."
   ]
  },
  {
   "cell_type": "code",
   "execution_count": null,
   "id": "e4596bdc-fa44-4661-a1e4-d5546a1a605b",
   "metadata": {
    "scrolled": true
   },
   "outputs": [],
   "source": [
    "# Function to count the class distribution\n",
    "def count_class_distribution():\n",
    "    class_counts = {0: 0, 1: 0, 2: 0}\n",
    "    \n",
    "    label_files = [f for f in os.listdir(labels_folder) if f.endswith('.txt')]\n",
    "    \n",
    "    for label_file in label_files:\n",
    "        label_path = os.path.join(labels_folder, label_file)\n",
    "        \n",
    "        with open(label_path, 'r') as f:\n",
    "            label_data = f.readlines()\n",
    "        \n",
    "        for line in label_data:\n",
    "            parts = line.strip().split()\n",
    "            label = int(parts[0])\n",
    "            class_counts[label] += 1\n",
    "    \n",
    "    return class_counts\n",
    "\n",
    "# Function to plot the class distribution\n",
    "def plot_class_distribution(class_counts):\n",
    "    classes = [labels[key] for key in class_counts.keys()]\n",
    "    counts = [class_counts[key] for key in class_counts.keys()]\n",
    "    \n",
    "    plt.figure(figsize=(10, 6))\n",
    "    plt.bar(classes, counts, color=['blue', 'green', 'red'])\n",
    "    plt.xlabel('Class')\n",
    "    plt.ylabel('Count')\n",
    "    plt.title('Class Distribution in Dataset')\n",
    "    plt.show()\n",
    "\n",
    "# Count class distribution and plot it\n",
    "class_counts = count_class_distribution()\n",
    "plot_class_distribution(class_counts)"
   ]
  },
  {
   "cell_type": "markdown",
   "id": "e1525ab5-9383-4640-bc42-b5f7d70cc069",
   "metadata": {},
   "source": [
    "![classdist](https://i.imgur.com/ClHb4qx.png)"
   ]
  },
  {
   "cell_type": "markdown",
   "id": "997bdf81-fe01-4f65-b382-0c956f5f2a36",
   "metadata": {},
   "source": [
    "# 4. Data Preprocessing"
   ]
  },
  {
   "cell_type": "code",
   "execution_count": null,
   "id": "0c4a0207-f337-431d-bc94-ec0623b0194c",
   "metadata": {},
   "outputs": [],
   "source": [
    "## 4.1 Splitting the images into Train, validation and Test"
   ]
  },
  {
   "cell_type": "code",
   "execution_count": null,
   "id": "37f4a91d-40d8-4115-bb49-5aed3a91dccb",
   "metadata": {},
   "outputs": [],
   "source": [
    "import os\n",
    "import random\n",
    "import shutil\n",
    "\n",
    "# Define paths\n",
    "dataset_path = '6k_dataset'\n",
    "images_path = os.path.join(dataset_path, 'images')\n",
    "labels_path = os.path.join(dataset_path, 'labels')\n",
    "\n",
    "# Get all image files\n",
    "image_files = [f for f in os.listdir(images_path) if f.endswith('.jpg')]\n",
    "\n",
    "# Shuffle the files\n",
    "random.shuffle(image_files)\n",
    "\n",
    "# Calculate split indices\n",
    "total_images = len(image_files)\n",
    "train_split = int(total_images * 0.7)\n",
    "val_split = int(total_images * 0.2)\n",
    "\n",
    "# Split the files\n",
    "train_files = image_files[:train_split]\n",
    "val_files = image_files[train_split:train_split + val_split]\n",
    "test_files = image_files[train_split + val_split:]\n",
    "\n",
    "# Function to copy files to respective directories\n",
    "def copy_files(file_list, dest_images_path, dest_labels_path):\n",
    "    os.makedirs(dest_images_path, exist_ok=True)\n",
    "    os.makedirs(dest_labels_path, exist_ok=True)\n",
    "    for file in file_list:\n",
    "        shutil.copy(os.path.join(images_path, file), dest_images_path)\n",
    "        label_file = file.replace('.jpg', '.txt')\n",
    "        if os.path.exists(os.path.join(labels_path, label_file)):\n",
    "            shutil.copy(os.path.join(labels_path, label_file), dest_labels_path)\n",
    "\n",
    "# Create directories and copy files\n",
    "copy_files(train_files, 'yolo_dataset/train/images', 'yolo_dataset/train/labels')\n",
    "copy_files(val_files, 'yolo_dataset/val/images', 'yolo_dataset/val/labels')\n",
    "copy_files(test_files, 'yolo_dataset/test/images', 'yolo_dataset/test/labels')"
   ]
  },
  {
   "cell_type": "markdown",
   "id": "6370c78e-1b45-4650-8272-8d134666e31d",
   "metadata": {
    "id": "6370c78e-1b45-4650-8272-8d134666e31d"
   },
   "source": [
    "# 5. Model Selection & Training"
   ]
  },
  {
   "cell_type": "markdown",
   "id": "15b5d01a-2285-446b-b3bf-642d7d9550ae",
   "metadata": {},
   "source": [
    "Other models were tested, but yolov8_m pretrained yieleded best results"
   ]
  },
  {
   "cell_type": "code",
   "execution_count": null,
   "id": "5ognfrSmiArG",
   "metadata": {
    "colab": {
     "base_uri": "https://localhost:8080/",
     "height": 1000
    },
    "id": "5ognfrSmiArG",
    "outputId": "90b4c25b-fdbf-4240-a4af-d70769d3516d",
    "scrolled": true
   },
   "outputs": [],
   "source": [
    "model = YOLO('yolov8m.pt') \n",
    "\n",
    "training_params = {\n",
    "    'data': dataset_path,  \n",
    "    'imgsz': 640, \n",
    "    'epochs': 100, \n",
    "    'augment': True,  \n",
    "    'patience': 10,  # Early Stopping\n",
    "    'save_period': 1,  \n",
    "    'save': True,  \n",
    "    'resume': True,  \n",
    "    'project': save_dir,\n",
    "    'name': 'my_experiment'\n",
    "}\n",
    "\n",
    "model.train(**training_params)"
   ]
  },
  {
   "cell_type": "markdown",
   "id": "yXk_xkB-VrS2",
   "metadata": {
    "id": "yXk_xkB-VrS2"
   },
   "source": [
    "# 6. Model Evaluation"
   ]
  },
  {
   "cell_type": "code",
   "execution_count": null,
   "id": "98a30c98-99bf-40c5-bbc8-478019be2bab",
   "metadata": {},
   "outputs": [],
   "source": [
    "model = YOLO(model_path)\n",
    "\n",
    "# Evaluate the model on the test set\n",
    "results = model.val(data=dataset_path, save_dir=save_dir)\n",
    "\n",
    "print(results)"
   ]
  },
  {
   "cell_type": "markdown",
   "id": "598633f0-95e7-4b94-9dc3-399986c7d0a6",
   "metadata": {},
   "source": [
    "### Evaluation Metrics:\n",
    "```plaintext\n",
    "                 Class     Images  Instances      Box(P          R      mAP50  mAP50-95)\n",
    "                   all       1221       1390      0.835      0.792      0.826       0.46\n",
    "         Engine Flames        562        570      0.902      0.911      0.945      0.603\n",
    "           Rocket Body        622        633      0.914      0.889      0.925       0.55\n",
    "                 Space        165        187      0.689      0.578      0.608      0.228\n",
    "```\n",
    "\n",
    "### Speed Metrics:\n",
    "```plaintext\n",
    "Speed: 0.2ms preprocess, 11.4ms inference, 0.0ms loss, 2.2ms postprocess per image\n",
    "Total inference time per image: 13.8ms\n",
    "```"
   ]
  },
  {
   "cell_type": "markdown",
   "id": "ce5e61bc-c770-474c-99ae-f5ab838e3e9b",
   "metadata": {},
   "source": [
    "![confusionmatrix](https://i.imgur.com/BiFnMuW.png)"
   ]
  },
  {
   "cell_type": "markdown",
   "id": "c6731dc4-1945-4e4d-89e7-c34434cb811d",
   "metadata": {},
   "source": [
    "![f1confidence](https://i.imgur.com/3wyVRR7.png)"
   ]
  },
  {
   "cell_type": "code",
   "execution_count": null,
   "id": "otjdnhbnYIJu",
   "metadata": {
    "colab": {
     "background_save": true,
     "base_uri": "https://localhost:8080/",
     "height": 1000
    },
    "id": "otjdnhbnYIJu",
    "outputId": "73b0be37-f0fa-4600-8b84-a68172c1b7af"
   },
   "outputs": [],
   "source": [
    "# Visualize the results\n",
    "\n",
    "import matplotlib.pyplot as plt\n",
    "\n",
    "for result in results:\n",
    "    annotated_image = result.plot()  # Get the annotated image\n",
    "    plt.imshow(annotated_image)\n",
    "    plt.axis('off')  # Hide the axis\n",
    "    plt.show()  # Display the image"
   ]
  },
  {
   "attachments": {},
   "cell_type": "markdown",
   "id": "ad665880-996f-4009-9dba-675ec7661568",
   "metadata": {},
   "source": [
    "![results](https://i.imgur.com/0KZGDvh.png)\n",
    "![results](https://i.imgur.com/vybRNDm.png)\n",
    "![results](https://i.imgur.com/uQvfFRw.png)\n",
    "![results](https://i.imgur.com/JLeVxiY.png)\n",
    "![results](https://i.imgur.com/IGEDHuU.png)\n",
    "![results](https://i.imgur.com/hTYIWZT.png)"
   ]
  },
  {
   "cell_type": "markdown",
   "id": "JHDMr68jcZVM",
   "metadata": {
    "id": "JHDMr68jcZVM"
   },
   "source": [
    "# 7. Deployment Readiness"
   ]
  },
  {
   "cell_type": "markdown",
   "id": "_UUwdIgbcaa1",
   "metadata": {
    "id": "_UUwdIgbcaa1"
   },
   "source": [
    "ULA Atlas V launches final national security mission from Florida’s Space Coast\n",
    "\n",
    "WKMG News 6 ClickOrlando\n",
    "\n",
    "Source: https://www.youtube.com/watch?v=GYWr3FV9umU\n"
   ]
  },
  {
   "cell_type": "code",
   "execution_count": null,
   "id": "qBxDx5G7IKos",
   "metadata": {
    "id": "qBxDx5G7IKos"
   },
   "outputs": [],
   "source": [
    "model = YOLO(model_path)\n",
    "\n",
    "video_path = '/content/drive/My Drive/yolo_dataset/launch_video.mp4'\n",
    "\n",
    "# Directory to save the annotated video\n",
    "experiment_name = 'video_inference'\n",
    "\n",
    "# Run inference on the video with stream=True (to avoid memory crashes)\n",
    "results = model.predict(source=video_path, stream=True, save=True, project=save_dir, name=experiment_name)\n",
    "\n",
    "# Process the results\n",
    "for r in results:\n",
    "    boxes = r.boxes  # Boxes object for bbox outputs\n",
    "    masks = r.masks  # Masks object for segment masks outputs\n",
    "    probs = r.probs  # Class probabilities for classification outputs\n",
    "\n",
    "print(f\"Annotated video saved to {save_dir}/{experiment_name}\")"
   ]
  },
  {
   "cell_type": "markdown",
   "id": "a5d4d998-93d6-45e0-90b6-a1d57451fc32",
   "metadata": {},
   "source": [
    "# 8. Conclusion"
   ]
  },
  {
   "cell_type": "code",
   "execution_count": null,
   "id": "7829d15d-cceb-4715-a010-bad32be42862",
   "metadata": {},
   "outputs": [],
   "source": []
  }
 ],
 "metadata": {
  "accelerator": "GPU",
  "colab": {
   "gpuType": "T4",
   "provenance": []
  },
  "kernelspec": {
   "display_name": "Python 3 (ipykernel)",
   "language": "python",
   "name": "python3"
  },
  "language_info": {
   "codemirror_mode": {
    "name": "ipython",
    "version": 3
   },
   "file_extension": ".py",
   "mimetype": "text/x-python",
   "name": "python",
   "nbconvert_exporter": "python",
   "pygments_lexer": "ipython3",
   "version": "3.11.9"
  }
 },
 "nbformat": 4,
 "nbformat_minor": 5
}
